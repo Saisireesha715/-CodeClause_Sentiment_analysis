{
 "cells": [
  {
   "cell_type": "code",
   "execution_count": 20,
   "id": "2a446f28",
   "metadata": {},
   "outputs": [],
   "source": [
    "#import the required libraries\n",
    "import pandas as pd\n",
    "from nltk.sentiment import SentimentIntensityAnalyzer\n",
    "\n"
   ]
  },
  {
   "cell_type": "code",
   "execution_count": 24,
   "id": "4c8b80cf",
   "metadata": {},
   "outputs": [],
   "source": [
    "# Load the data of the product\n",
    "\n",
    "df = pd.read_csv(r'D:\\reviews.csv')\n",
    "\n"
   ]
  },
  {
   "cell_type": "code",
   "execution_count": 26,
   "id": "d2a9b96f",
   "metadata": {},
   "outputs": [
    {
     "data": {
      "text/plain": [
       "Index(['id', 'profileName', 'text', 'date', 'title', 'rating', 'images',\n",
       "       'helpful', 'Colour', 'Size'],\n",
       "      dtype='object')"
      ]
     },
     "execution_count": 26,
     "metadata": {},
     "output_type": "execute_result"
    }
   ],
   "source": [
    "#to print columns of dataset\n",
    "df.columns\n"
   ]
  },
  {
   "cell_type": "code",
   "execution_count": 27,
   "id": "4a09501d",
   "metadata": {},
   "outputs": [
    {
     "name": "stdout",
     "output_type": "stream",
     "text": [
      "Average compound score: 0.39312\n"
     ]
    }
   ],
   "source": [
    "sia = SentimentIntensityAnalyzer()\n",
    "\n",
    "# Perform sentiment analysis\n",
    "df['sentiments'] = df['text'].apply(lambda x: sia.polarity_scores(str(x)))\n",
    "df['compound']  = df['sentiments'].apply(lambda score_dict: score_dict['compound'])\n",
    "\n",
    "# Print the average sentiment\n",
    "#A compound score close to +1 suggests a high degree of positive sentiment.\n",
    "#A score close to -1 indicates high negative sentiment.\n",
    "#A score around 0 suggests neutrality.\n",
    "average_compound = df['compound'].mean()\n",
    "print(f'Average compound score: {average_compound}')"
   ]
  },
  {
   "cell_type": "code",
   "execution_count": null,
   "id": "47c08711",
   "metadata": {},
   "outputs": [],
   "source": []
  }
 ],
 "metadata": {
  "kernelspec": {
   "display_name": "Python 3 (ipykernel)",
   "language": "python",
   "name": "python3"
  },
  "language_info": {
   "codemirror_mode": {
    "name": "ipython",
    "version": 3
   },
   "file_extension": ".py",
   "mimetype": "text/x-python",
   "name": "python",
   "nbconvert_exporter": "python",
   "pygments_lexer": "ipython3",
   "version": "3.9.12"
  }
 },
 "nbformat": 4,
 "nbformat_minor": 5
}
